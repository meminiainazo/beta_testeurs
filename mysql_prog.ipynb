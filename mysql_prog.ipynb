{
 "cells": [
  {
   "cell_type": "code",
   "execution_count": 1,
   "metadata": {},
   "outputs": [],
   "source": [
    "from dotenv import load_dotenv\n",
    "import os\n",
    "import ast\n",
    "import pandas as pd"
   ]
  },
  {
   "cell_type": "code",
   "execution_count": 4,
   "metadata": {},
   "outputs": [],
   "source": [
    "collections = pd.read_csv(\"collections.csv\")\n",
    "collection_files_0 = pd.read_csv(\"collection_files.csv\")\n",
    "collection_files_1 = pd.read_csv(\"collection_files (1).csv\")\n",
    "collection_files_2 = pd.read_csv(\"collection_files (2).csv\")\n",
    "collection_files_3 = pd.read_csv(\"collection_files (3).csv\")\n",
    "collection_urls = pd.read_csv(\"collection_urls.csv\")\n",
    "session_0 = pd.read_csv(\"sessions.csv\")\n",
    "session_1 = pd.read_csv(\"sessions (1).csv\")\n",
    "\n",
    "collection_files = pd.concat([collection_files_0, collection_files_1, collection_files_2, collection_files_3], axis=0, ignore_index=True)\n",
    "sessions = pd.concat([session_0, session_1], axis=0, ignore_index=True)"
   ]
  },
  {
   "cell_type": "code",
   "execution_count": 5,
   "metadata": {},
   "outputs": [],
   "source": [
    "id_to_keep = [\n",
    "    \"f38d5e2e-527c-46df-b171-3bc6c5ec2dd0\",\n",
    "    \"97cb7edc-1925-49d7-85a7-cf6e658173c1\",\n",
    "    \"0f3f0760-1446-11ef-be9a-0242c0a81005\",\n",
    "    \"a807e86c-be8c-4228-a819-a91a369a57fd\",\n",
    "    \"c12478fa-7571-4d5b-b7b8-078b6ce1049f\",\n",
    "    \"f6d12c1b-1456-11ef-be9a-0242c0a81005\",\n",
    "    \"5392a00a-4d18-4306-8273-8721729c247b\",\n",
    "    \"129f3f21-9a13-4671-a049-cb58840d7779\",\n",
    "    \"8424a9f0-12e9-4ddc-bfd0-12b9ef36d400\",\n",
    "    \"e5e19084-5e2f-4709-8ea2-3d8c71f03f99\",\n",
    "    \"b25f661a-6fa1-42a7-841c-070296a0cddc\",\n",
    "    \"ec2126ce-2eea-451d-aeb8-25c52f34ef0e\",\n",
    "    \"ff54899d-e970-4969-bd03-93d5fda03fd9\",\n",
    "    \"4115d3c9-488f-41a8-b76f-93da18d10060\",\n",
    "]\n",
    "\n",
    "collections_filtered = collections[collections[\"user_id\"].isin(id_to_keep)]"
   ]
  },
  {
   "cell_type": "code",
   "execution_count": 9,
   "metadata": {},
   "outputs": [],
   "source": [
    "collections_id_to_keep = collections_filtered[\"id\"]\n",
    "\n",
    "collection_files_filtered = collection_files[\n",
    "    collection_files[\"collection_id\"].isin(collections_id_to_keep)\n",
    "]\n",
    "sessions_filtered = sessions[\n",
    "    sessions[\"collection_id\"].isin(collections_id_to_keep)\n",
    "]"
   ]
  },
  {
   "cell_type": "code",
   "execution_count": 11,
   "metadata": {},
   "outputs": [],
   "source": [
    "beta_testeurs = pd.read_csv(\"beta_testeurs_infos.csv\")"
   ]
  },
  {
   "cell_type": "code",
   "execution_count": 10,
   "metadata": {},
   "outputs": [
    {
     "data": {
      "text/plain": [
       "191"
      ]
     },
     "execution_count": 10,
     "metadata": {},
     "output_type": "execute_result"
    }
   ],
   "source": [
    "beta_testeurs_datas = {\n",
    "                        \"name\": \"\", \n",
    "                        \"id\": \"\", \n",
    "                        \"collections_ids\": [], \n",
    "                        \"data\": {\n",
    "                            \"collection_id\": \"\", \n",
    "                            \"sessions_ids\": [], \n",
    "                            \"docs\": [], \n",
    "                            \"urls\": []\n",
    "                            }\n",
    "                        }"
   ]
  },
  {
   "cell_type": "code",
   "execution_count": null,
   "metadata": {},
   "outputs": [],
   "source": []
  }
 ],
 "metadata": {
  "kernelspec": {
   "display_name": "env",
   "language": "python",
   "name": "python3"
  },
  "language_info": {
   "codemirror_mode": {
    "name": "ipython",
    "version": 3
   },
   "file_extension": ".py",
   "mimetype": "text/x-python",
   "name": "python",
   "nbconvert_exporter": "python",
   "pygments_lexer": "ipython3",
   "version": "3.11.7"
  }
 },
 "nbformat": 4,
 "nbformat_minor": 2
}
